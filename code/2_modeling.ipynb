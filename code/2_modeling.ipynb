{
 "cells": [
  {
   "cell_type": "markdown",
   "id": "e0a0c371-4301-474f-86ca-d5ab55fbbb0c",
   "metadata": {},
   "source": [
    "# Modeling Exploration"
   ]
  },
  {
   "cell_type": "markdown",
   "id": "a4237f54-d1ac-4bfe-952e-d8fce2481649",
   "metadata": {},
   "source": [
    "### Imports"
   ]
  },
  {
   "cell_type": "code",
   "execution_count": 1,
   "id": "6c07194e-878e-43ad-9c9a-c952273d3421",
   "metadata": {},
   "outputs": [],
   "source": [
    "import pandas as pd\n",
    "import numpy as np\n",
    "import pickle\n",
    "\n",
    "\n",
    "from sklearn.preprocessing import StandardScaler, OneHotEncoder\n",
    "from sklearn.linear_model import LinearRegression, LassoCV, RidgeCV, ElasticNetCV, LogisticRegression\n",
    "from sklearn.model_selection import train_test_split, GridSearchCV\n",
    "from sklearn.pipeline import Pipeline\n",
    "from sklearn.neighbors import KNeighborsRegressor\n",
    "from sklearn.tree import DecisionTreeRegressor\n",
    "from sklearn.ensemble import BaggingRegressor, RandomForestRegressor, AdaBoostRegressor\n",
    "\n",
    "from sklearn import metrics\n",
    "np.random.seed(42)"
   ]
  },
  {
   "cell_type": "code",
   "execution_count": 2,
   "id": "d82768c8-6592-48f8-a1a2-a77d50c141b6",
   "metadata": {},
   "outputs": [],
   "source": [
    "df = pd.read_csv('../data/game_logs.csv')"
   ]
  },
  {
   "cell_type": "code",
   "execution_count": 3,
   "id": "e3823c4a-819c-4036-a5e6-166f7ec7c8c0",
   "metadata": {},
   "outputs": [
    {
     "data": {
      "text/html": [
       "<div>\n",
       "<style scoped>\n",
       "    .dataframe tbody tr th:only-of-type {\n",
       "        vertical-align: middle;\n",
       "    }\n",
       "\n",
       "    .dataframe tbody tr th {\n",
       "        vertical-align: top;\n",
       "    }\n",
       "\n",
       "    .dataframe thead th {\n",
       "        text-align: right;\n",
       "    }\n",
       "</style>\n",
       "<table border=\"1\" class=\"dataframe\">\n",
       "  <thead>\n",
       "    <tr style=\"text-align: right;\">\n",
       "      <th></th>\n",
       "      <th>Date</th>\n",
       "      <th>Home</th>\n",
       "      <th>Opp</th>\n",
       "      <th>R</th>\n",
       "      <th>H</th>\n",
       "      <th>HR</th>\n",
       "      <th>BA</th>\n",
       "      <th>OPS</th>\n",
       "      <th>Team</th>\n",
       "      <th>abbrev_name</th>\n",
       "      <th>...</th>\n",
       "      <th>K/BB</th>\n",
       "      <th>HR/9</th>\n",
       "      <th>WHIP</th>\n",
       "      <th>xFIP</th>\n",
       "      <th>HardHit%_P</th>\n",
       "      <th>wOBA</th>\n",
       "      <th>wRC+</th>\n",
       "      <th>OBP+</th>\n",
       "      <th>Barrel%</th>\n",
       "      <th>HardHit%</th>\n",
       "    </tr>\n",
       "  </thead>\n",
       "  <tbody>\n",
       "    <tr>\n",
       "      <th>0</th>\n",
       "      <td>Apr 7</td>\n",
       "      <td>False</td>\n",
       "      <td>SDP</td>\n",
       "      <td>4</td>\n",
       "      <td>3</td>\n",
       "      <td>1</td>\n",
       "      <td>0.115</td>\n",
       "      <td>0.554</td>\n",
       "      <td>ARI</td>\n",
       "      <td>Y.Darvish</td>\n",
       "      <td>...</td>\n",
       "      <td>4.94</td>\n",
       "      <td>1.07</td>\n",
       "      <td>0.98</td>\n",
       "      <td>3.64</td>\n",
       "      <td>0.372</td>\n",
       "      <td>0.308</td>\n",
       "      <td>94</td>\n",
       "      <td>98</td>\n",
       "      <td>0.069</td>\n",
       "      <td>0.361</td>\n",
       "    </tr>\n",
       "    <tr>\n",
       "      <th>1</th>\n",
       "      <td>Apr 8</td>\n",
       "      <td>False</td>\n",
       "      <td>SDP</td>\n",
       "      <td>0</td>\n",
       "      <td>2</td>\n",
       "      <td>0</td>\n",
       "      <td>0.091</td>\n",
       "      <td>0.364</td>\n",
       "      <td>ARI</td>\n",
       "      <td>S.Manaea</td>\n",
       "      <td>...</td>\n",
       "      <td>3.09</td>\n",
       "      <td>1.68</td>\n",
       "      <td>1.36</td>\n",
       "      <td>3.93</td>\n",
       "      <td>0.424</td>\n",
       "      <td>0.308</td>\n",
       "      <td>94</td>\n",
       "      <td>98</td>\n",
       "      <td>0.069</td>\n",
       "      <td>0.361</td>\n",
       "    </tr>\n",
       "    <tr>\n",
       "      <th>2</th>\n",
       "      <td>Apr 9</td>\n",
       "      <td>False</td>\n",
       "      <td>SDP</td>\n",
       "      <td>2</td>\n",
       "      <td>5</td>\n",
       "      <td>1</td>\n",
       "      <td>0.116</td>\n",
       "      <td>0.426</td>\n",
       "      <td>ARI</td>\n",
       "      <td>J.Musgrove</td>\n",
       "      <td>...</td>\n",
       "      <td>4.62</td>\n",
       "      <td>1.19</td>\n",
       "      <td>1.09</td>\n",
       "      <td>3.50</td>\n",
       "      <td>0.327</td>\n",
       "      <td>0.308</td>\n",
       "      <td>94</td>\n",
       "      <td>98</td>\n",
       "      <td>0.069</td>\n",
       "      <td>0.361</td>\n",
       "    </tr>\n",
       "    <tr>\n",
       "      <th>3</th>\n",
       "      <td>Apr 10</td>\n",
       "      <td>False</td>\n",
       "      <td>SDP</td>\n",
       "      <td>5</td>\n",
       "      <td>5</td>\n",
       "      <td>2</td>\n",
       "      <td>0.129</td>\n",
       "      <td>0.516</td>\n",
       "      <td>ARI</td>\n",
       "      <td>N.Crismatt</td>\n",
       "      <td>...</td>\n",
       "      <td>2.82</td>\n",
       "      <td>0.57</td>\n",
       "      <td>1.20</td>\n",
       "      <td>3.52</td>\n",
       "      <td>0.363</td>\n",
       "      <td>0.308</td>\n",
       "      <td>94</td>\n",
       "      <td>98</td>\n",
       "      <td>0.069</td>\n",
       "      <td>0.361</td>\n",
       "    </tr>\n",
       "    <tr>\n",
       "      <th>4</th>\n",
       "      <td>Apr 12</td>\n",
       "      <td>False</td>\n",
       "      <td>HOU</td>\n",
       "      <td>1</td>\n",
       "      <td>4</td>\n",
       "      <td>1</td>\n",
       "      <td>0.130</td>\n",
       "      <td>0.518</td>\n",
       "      <td>ARI</td>\n",
       "      <td>L.Garcia</td>\n",
       "      <td>...</td>\n",
       "      <td>3.40</td>\n",
       "      <td>1.41</td>\n",
       "      <td>1.17</td>\n",
       "      <td>3.82</td>\n",
       "      <td>0.349</td>\n",
       "      <td>0.308</td>\n",
       "      <td>94</td>\n",
       "      <td>98</td>\n",
       "      <td>0.069</td>\n",
       "      <td>0.361</td>\n",
       "    </tr>\n",
       "  </tbody>\n",
       "</table>\n",
       "<p>5 rows × 21 columns</p>\n",
       "</div>"
      ],
      "text/plain": [
       "     Date   Home  Opp  R  H  HR     BA    OPS Team abbrev_name  ...  K/BB  \\\n",
       "0   Apr 7  False  SDP  4  3   1  0.115  0.554  ARI   Y.Darvish  ...  4.94   \n",
       "1   Apr 8  False  SDP  0  2   0  0.091  0.364  ARI    S.Manaea  ...  3.09   \n",
       "2   Apr 9  False  SDP  2  5   1  0.116  0.426  ARI  J.Musgrove  ...  4.62   \n",
       "3  Apr 10  False  SDP  5  5   2  0.129  0.516  ARI  N.Crismatt  ...  2.82   \n",
       "4  Apr 12  False  HOU  1  4   1  0.130  0.518  ARI    L.Garcia  ...  3.40   \n",
       "\n",
       "   HR/9  WHIP  xFIP  HardHit%_P   wOBA  wRC+  OBP+  Barrel%  HardHit%  \n",
       "0  1.07  0.98  3.64       0.372  0.308    94    98    0.069     0.361  \n",
       "1  1.68  1.36  3.93       0.424  0.308    94    98    0.069     0.361  \n",
       "2  1.19  1.09  3.50       0.327  0.308    94    98    0.069     0.361  \n",
       "3  0.57  1.20  3.52       0.363  0.308    94    98    0.069     0.361  \n",
       "4  1.41  1.17  3.82       0.349  0.308    94    98    0.069     0.361  \n",
       "\n",
       "[5 rows x 21 columns]"
      ]
     },
     "execution_count": 3,
     "metadata": {},
     "output_type": "execute_result"
    }
   ],
   "source": [
    "df.head()"
   ]
  },
  {
   "cell_type": "code",
   "execution_count": 4,
   "id": "93d450ee-3f66-4599-b4cd-b64626e9b269",
   "metadata": {},
   "outputs": [
    {
     "data": {
      "text/plain": [
       "(4462, 21)"
      ]
     },
     "execution_count": 4,
     "metadata": {},
     "output_type": "execute_result"
    }
   ],
   "source": [
    "df.shape"
   ]
  },
  {
   "cell_type": "markdown",
   "id": "53c19e0c-6dbe-4fa7-99f5-63e98112cf54",
   "metadata": {},
   "source": [
    "### Setting up dataframes and train/test split"
   ]
  },
  {
   "cell_type": "code",
   "execution_count": 5,
   "id": "137866cb-a9a8-4918-98b8-7af4aca29743",
   "metadata": {},
   "outputs": [],
   "source": [
    "df['Home'] = df['Home'].astype(int)"
   ]
  },
  {
   "cell_type": "code",
   "execution_count": 6,
   "id": "063fbed3-171a-4b90-ab7e-42cf9f627a77",
   "metadata": {},
   "outputs": [],
   "source": [
    "X = df.drop(columns = ['Date', 'R', 'Team', 'abbrev_name', 'Opp'])\n",
    "y = df['R']\n",
    "\n",
    "X_train, X_test, y_train, y_test = train_test_split(X, y, random_state = 42)"
   ]
  },
  {
   "cell_type": "code",
   "execution_count": 7,
   "id": "c17f4167-d91c-4016-871d-d46c0d454064",
   "metadata": {},
   "outputs": [
    {
     "data": {
      "text/html": [
       "<div>\n",
       "<style scoped>\n",
       "    .dataframe tbody tr th:only-of-type {\n",
       "        vertical-align: middle;\n",
       "    }\n",
       "\n",
       "    .dataframe tbody tr th {\n",
       "        vertical-align: top;\n",
       "    }\n",
       "\n",
       "    .dataframe thead th {\n",
       "        text-align: right;\n",
       "    }\n",
       "</style>\n",
       "<table border=\"1\" class=\"dataframe\">\n",
       "  <thead>\n",
       "    <tr style=\"text-align: right;\">\n",
       "      <th></th>\n",
       "      <th>Home</th>\n",
       "      <th>H</th>\n",
       "      <th>HR</th>\n",
       "      <th>BA</th>\n",
       "      <th>OPS</th>\n",
       "      <th>ERA</th>\n",
       "      <th>K/BB</th>\n",
       "      <th>HR/9</th>\n",
       "      <th>WHIP</th>\n",
       "      <th>xFIP</th>\n",
       "      <th>HardHit%_P</th>\n",
       "      <th>wOBA</th>\n",
       "      <th>wRC+</th>\n",
       "      <th>OBP+</th>\n",
       "      <th>Barrel%</th>\n",
       "      <th>HardHit%</th>\n",
       "    </tr>\n",
       "  </thead>\n",
       "  <tbody>\n",
       "    <tr>\n",
       "      <th>4457</th>\n",
       "      <td>1</td>\n",
       "      <td>18</td>\n",
       "      <td>1</td>\n",
       "      <td>0.252</td>\n",
       "      <td>0.696</td>\n",
       "      <td>3.33</td>\n",
       "      <td>2.98</td>\n",
       "      <td>0.73</td>\n",
       "      <td>1.22</td>\n",
       "      <td>3.90</td>\n",
       "      <td>0.366</td>\n",
       "      <td>0.307</td>\n",
       "      <td>94</td>\n",
       "      <td>100</td>\n",
       "      <td>0.061</td>\n",
       "      <td>0.356</td>\n",
       "    </tr>\n",
       "    <tr>\n",
       "      <th>4458</th>\n",
       "      <td>1</td>\n",
       "      <td>10</td>\n",
       "      <td>1</td>\n",
       "      <td>0.252</td>\n",
       "      <td>0.697</td>\n",
       "      <td>4.09</td>\n",
       "      <td>3.11</td>\n",
       "      <td>0.89</td>\n",
       "      <td>1.28</td>\n",
       "      <td>4.28</td>\n",
       "      <td>0.341</td>\n",
       "      <td>0.307</td>\n",
       "      <td>94</td>\n",
       "      <td>100</td>\n",
       "      <td>0.061</td>\n",
       "      <td>0.356</td>\n",
       "    </tr>\n",
       "    <tr>\n",
       "      <th>4459</th>\n",
       "      <td>1</td>\n",
       "      <td>11</td>\n",
       "      <td>1</td>\n",
       "      <td>0.252</td>\n",
       "      <td>0.697</td>\n",
       "      <td>3.62</td>\n",
       "      <td>2.28</td>\n",
       "      <td>0.74</td>\n",
       "      <td>1.33</td>\n",
       "      <td>3.71</td>\n",
       "      <td>0.332</td>\n",
       "      <td>0.307</td>\n",
       "      <td>94</td>\n",
       "      <td>100</td>\n",
       "      <td>0.061</td>\n",
       "      <td>0.356</td>\n",
       "    </tr>\n",
       "    <tr>\n",
       "      <th>4460</th>\n",
       "      <td>1</td>\n",
       "      <td>11</td>\n",
       "      <td>1</td>\n",
       "      <td>0.252</td>\n",
       "      <td>0.697</td>\n",
       "      <td>2.84</td>\n",
       "      <td>2.65</td>\n",
       "      <td>0.95</td>\n",
       "      <td>1.08</td>\n",
       "      <td>3.50</td>\n",
       "      <td>0.322</td>\n",
       "      <td>0.307</td>\n",
       "      <td>94</td>\n",
       "      <td>100</td>\n",
       "      <td>0.061</td>\n",
       "      <td>0.356</td>\n",
       "    </tr>\n",
       "    <tr>\n",
       "      <th>4461</th>\n",
       "      <td>1</td>\n",
       "      <td>11</td>\n",
       "      <td>0</td>\n",
       "      <td>0.252</td>\n",
       "      <td>0.697</td>\n",
       "      <td>3.31</td>\n",
       "      <td>8.42</td>\n",
       "      <td>0.85</td>\n",
       "      <td>0.97</td>\n",
       "      <td>2.84</td>\n",
       "      <td>0.318</td>\n",
       "      <td>0.307</td>\n",
       "      <td>94</td>\n",
       "      <td>100</td>\n",
       "      <td>0.061</td>\n",
       "      <td>0.356</td>\n",
       "    </tr>\n",
       "  </tbody>\n",
       "</table>\n",
       "</div>"
      ],
      "text/plain": [
       "      Home   H  HR     BA    OPS   ERA  K/BB  HR/9  WHIP  xFIP  HardHit%_P  \\\n",
       "4457     1  18   1  0.252  0.696  3.33  2.98  0.73  1.22  3.90       0.366   \n",
       "4458     1  10   1  0.252  0.697  4.09  3.11  0.89  1.28  4.28       0.341   \n",
       "4459     1  11   1  0.252  0.697  3.62  2.28  0.74  1.33  3.71       0.332   \n",
       "4460     1  11   1  0.252  0.697  2.84  2.65  0.95  1.08  3.50       0.322   \n",
       "4461     1  11   0  0.252  0.697  3.31  8.42  0.85  0.97  2.84       0.318   \n",
       "\n",
       "       wOBA  wRC+  OBP+  Barrel%  HardHit%  \n",
       "4457  0.307    94   100    0.061     0.356  \n",
       "4458  0.307    94   100    0.061     0.356  \n",
       "4459  0.307    94   100    0.061     0.356  \n",
       "4460  0.307    94   100    0.061     0.356  \n",
       "4461  0.307    94   100    0.061     0.356  "
      ]
     },
     "execution_count": 7,
     "metadata": {},
     "output_type": "execute_result"
    }
   ],
   "source": [
    "X.tail()"
   ]
  },
  {
   "cell_type": "markdown",
   "id": "5ea6c270-7bf1-499f-8a09-b763d8262581",
   "metadata": {},
   "source": [
    "### Pipeline with standard scalar and different regression models to find best type of model"
   ]
  },
  {
   "cell_type": "code",
   "execution_count": 8,
   "id": "882bac12-9bd6-4a29-b6cd-56807841e927",
   "metadata": {},
   "outputs": [],
   "source": [
    "# Pipelines function to run models and output scores and mse\n",
    "def pipe_model(model):\n",
    "    pipe = Pipeline([\n",
    "        ('ss', StandardScaler()),\n",
    "        ('model', model)\n",
    "    ])\n",
    "    pipe.fit(X_train, y_train)\n",
    "    print(f'{model}')\n",
    "    print(f'Training r2 score: {pipe.score(X_train, y_train)}')\n",
    "    print(f'Testing r2 score: {pipe.score(X_test, y_test)}')\n",
    "    print(f'Testing MSE: {metrics.mean_squared_error(y_test, pipe.predict(X_test))}')\n",
    "    return print('='*40)"
   ]
  },
  {
   "cell_type": "code",
   "execution_count": 9,
   "id": "3a3777c4-204c-4a60-9472-bde6a05fd6a0",
   "metadata": {},
   "outputs": [
    {
     "name": "stdout",
     "output_type": "stream",
     "text": [
      "LinearRegression()\n",
      "Training r2 score: 0.6903816526939168\n",
      "Testing r2 score: 0.7086728000038126\n",
      "Testing MSE: 2.943991205233757\n",
      "========================================\n",
      "KNeighborsRegressor()\n",
      "Training r2 score: 0.6930198993168457\n",
      "Testing r2 score: 0.5604626896409692\n",
      "Testing MSE: 4.441720430107527\n",
      "========================================\n",
      "DecisionTreeRegressor()\n",
      "Training r2 score: 1.0\n",
      "Testing r2 score: 0.37895013844076786\n",
      "Testing MSE: 6.275985663082437\n",
      "========================================\n",
      "BaggingRegressor()\n",
      "Training r2 score: 0.9356273651492398\n",
      "Testing r2 score: 0.652409813276584\n",
      "Testing MSE: 3.5125537634408603\n",
      "========================================\n",
      "RandomForestRegressor()\n",
      "Training r2 score: 0.953789288848109\n",
      "Testing r2 score: 0.6905691774787761\n",
      "Testing MSE: 3.1269363799283156\n",
      "========================================\n",
      "AdaBoostRegressor()\n",
      "Training r2 score: 0.6311581886245208\n",
      "Testing r2 score: 0.6194862533179641\n",
      "Testing MSE: 3.84526101138898\n",
      "========================================\n"
     ]
    }
   ],
   "source": [
    "pipe_model(LinearRegression())\n",
    "pipe_model(KNeighborsRegressor())\n",
    "pipe_model(DecisionTreeRegressor())\n",
    "pipe_model(BaggingRegressor())\n",
    "pipe_model(RandomForestRegressor())\n",
    "pipe_model(AdaBoostRegressor())"
   ]
  },
  {
   "cell_type": "markdown",
   "id": "cdc89e1f-3d0d-443d-9d68-ff07f7d4d9d6",
   "metadata": {},
   "source": [
    "Based on the above modeling, I will use Linear regression"
   ]
  },
  {
   "cell_type": "markdown",
   "id": "0c4f68bd-799e-4698-80e7-d8c06024f4fb",
   "metadata": {},
   "source": [
    "### Baseline model MSE"
   ]
  },
  {
   "cell_type": "code",
   "execution_count": 10,
   "id": "a2d5fc06-9050-42a4-86ca-84ef7ca91b8e",
   "metadata": {},
   "outputs": [
    {
     "data": {
      "text/plain": [
       "10.110988081476888"
      ]
     },
     "execution_count": 10,
     "metadata": {},
     "output_type": "execute_result"
    }
   ],
   "source": [
    "metrics.mean_squared_error(y_test, pd.Series(y.mean(), index=range(len(y_test))))"
   ]
  },
  {
   "cell_type": "markdown",
   "id": "10825677-42c5-4e9b-9e8d-52662d38db34",
   "metadata": {},
   "source": [
    "## Lasso, Ridge, Elastic Net\n",
    "----"
   ]
  },
  {
   "cell_type": "markdown",
   "id": "d9985b43-231e-42ea-be16-e7fea96b80ce",
   "metadata": {},
   "source": [
    "Because I am using Linear Regression as my model of choice, it may prove fruitful to use lasso, ridge, or elastic net(Both) to help regularize."
   ]
  },
  {
   "cell_type": "code",
   "execution_count": 11,
   "id": "f69dc97d-fb70-4543-82d2-a63bfe030ae4",
   "metadata": {},
   "outputs": [
    {
     "name": "stdout",
     "output_type": "stream",
     "text": [
      "23.101297000831593\n",
      "0.6863669360061809\n",
      "0.690339029118503\n",
      "0.7085659406134966\n"
     ]
    }
   ],
   "source": [
    "ss = StandardScaler()\n",
    "X_train_sc = ss.fit_transform(X_train)\n",
    "X_test_sc = ss.transform(X_test)\n",
    "\n",
    "alphas = np.logspace(0, 5, 100)\n",
    "# Cross-validate over our list of ridge alphas.\n",
    "ridge_cv = RidgeCV(alphas = alphas, cv = 5)\n",
    "# Fit model using best ridge alpha!\n",
    "ridge_cv.fit(X_train_sc, y_train)\n",
    "print(ridge_cv.alpha_)\n",
    "print(ridge_cv.best_score_)\n",
    "print(ridge_cv.score(X_train_sc, y_train))\n",
    "print(ridge_cv.score(X_test_sc, y_test))"
   ]
  },
  {
   "cell_type": "code",
   "execution_count": 12,
   "id": "7c8b14f6-64cb-40a5-9b9b-9b0dcf1e49af",
   "metadata": {},
   "outputs": [
    {
     "name": "stdout",
     "output_type": "stream",
     "text": [
      "0.003511191734215131\n",
      "0.6902916933352328\n",
      "0.70839145351358\n"
     ]
    }
   ],
   "source": [
    "# Set up a list of Lasso alphas to check.\n",
    "l_alphas = np.logspace(-3, 0, 100)\n",
    "# Cross-validate over our list of Lasso alphas.\n",
    "lasso_cv = LassoCV(alphas = l_alphas)\n",
    "# Fit model using best ridge alpha!\n",
    "lasso_cv.fit(X_train_sc, y_train)\n",
    "print(lasso_cv.alpha_)\n",
    "print(lasso_cv.score(X_train_sc, y_train))\n",
    "print(lasso_cv.score(X_test_sc, y_test))"
   ]
  },
  {
   "cell_type": "code",
   "execution_count": 13,
   "id": "f8f2b011-0539-41ad-b22c-d3148479c134",
   "metadata": {},
   "outputs": [
    {
     "name": "stdout",
     "output_type": "stream",
     "text": [
      "0.6375001372326098\n",
      "0.6447521804691531\n"
     ]
    }
   ],
   "source": [
    "# Set up a list of alphas to check.\n",
    "enet_alphas = np.linspace(0.5, 1.0, 100)\n",
    "\n",
    "# Set up our l1 ratio.\n",
    "enet_ratio = 0.5\n",
    "\n",
    "# Instantiate model.\n",
    "enet_model = ElasticNetCV(alphas=enet_alphas, l1_ratio=enet_ratio, cv=5)\n",
    "\n",
    "# Fit model using optimal alpha.\n",
    "enet_model = enet_model.fit(X_train_sc, y_train)\n",
    "\n",
    "# Evaluate model.\n",
    "print(enet_model.score(X_train_sc, y_train))\n",
    "print(enet_model.score(X_test_sc, y_test))"
   ]
  },
  {
   "cell_type": "markdown",
   "id": "152a3acc-b501-4162-a246-10469c4f11eb",
   "metadata": {},
   "source": [
    "Linear regression is still performing the best, so we will move forward with that."
   ]
  },
  {
   "cell_type": "markdown",
   "id": "120859d7-a39a-4301-8e70-abaac4bedf96",
   "metadata": {},
   "source": [
    "### Linear Regression Model\n",
    "----"
   ]
  },
  {
   "cell_type": "code",
   "execution_count": 14,
   "id": "ca3a05c2-b461-41c4-b30c-2dcc1c0884b8",
   "metadata": {},
   "outputs": [
    {
     "name": "stdout",
     "output_type": "stream",
     "text": [
      "Training r2 score: 0.6903816526939168\n",
      "Testing r2 score: 0.7086728000038126\n",
      "Testing MSE: 2.943991205233757\n"
     ]
    }
   ],
   "source": [
    "pipe = Pipeline([\n",
    "        ('ss', StandardScaler()),\n",
    "        ('lr', LinearRegression())\n",
    "    ])\n",
    "pipe.fit(X_train, y_train)\n",
    "print(f'Training r2 score: {pipe.score(X_train, y_train)}')\n",
    "print(f'Testing r2 score: {pipe.score(X_test, y_test)}')\n",
    "print(f'Testing MSE: {metrics.mean_squared_error(y_test, pipe.predict(X_test))}')"
   ]
  },
  {
   "cell_type": "code",
   "execution_count": 15,
   "id": "9b41cff1-bdf9-42d5-9391-3c6615de696d",
   "metadata": {},
   "outputs": [],
   "source": [
    "with open('../models/lr.pkl', 'wb') as f:\n",
    "    pickle.dump(pipe, f)"
   ]
  },
  {
   "cell_type": "code",
   "execution_count": 16,
   "id": "0613cffd-27ec-42dc-91ab-bd1ac9f24e15",
   "metadata": {},
   "outputs": [
    {
     "data": {
      "image/png": "[encoded data removed]",
      "text/plain": [
       "<Figure size 720x504 with 1 Axes>"
      ]
     },
     "metadata": {
      "needs_background": "light"
     },
     "output_type": "display_data"
    }
   ],
   "source": [
    "import matplotlib.pyplot as plt\n",
    "\n",
    "coefs = pd.Series(pipe['lr'].coef_, index = X.columns.values).sort_values()\n",
    "\n",
    "fig, ax = plt.subplots(figsize = (10,7))\n",
    "coefs.plot.barh(ax=ax)\n",
    "ax.set_title(\"Linear Regression Coefficients\")\n",
    "ax.set_xlabel(\"Coefficient Values\")\n",
    "fig.tight_layout()\n",
    "plt.savefig('../images/lr_coef.png');"
   ]
  },
  {
   "cell_type": "code",
   "execution_count": null,
   "id": "19b5c94f-b3f8-420b-b9c7-dc627c86eb0b",
   "metadata": {},
   "outputs": [],
   "source": []
  }
 ],
 "metadata": {
  "kernelspec": {
   "display_name": "Python [conda env:dsi] *",
   "language": "python",
   "name": "conda-env-dsi-py"
  },
  "language_info": {
   "codemirror_mode": {
    "name": "ipython",
    "version": 3
   },
   "file_extension": ".py",
   "mimetype": "text/x-python",
   "name": "python",
   "nbconvert_exporter": "python",
   "pygments_lexer": "ipython3",
   "version": "3.8.13"
  }
 },
 "nbformat": 4,
 "nbformat_minor": 5
}
